{
  "cells": [
    {
      "cell_type": "code",
      "execution_count": null,
      "metadata": {
        "id": "9JIZFL4CM6Ay"
      },
      "outputs": [],
      "source": [
        "import numpy as np\n",
        "import matplotlib.pyplot as plt\n",
        "from sklearn.preprocessing import StandardScaler\n",
        "from keras.datasets import fashion_mnist\n",
        "from keras.models import Sequential\n",
        "from keras.layers import Dense, Conv2D, Flatten, MaxPooling2D, Dropout\n",
        "from keras.utils import to_categorical\n",
        "from keras.optimizers import Adam"
      ]
    },
    {
      "cell_type": "code",
      "execution_count": null,
      "metadata": {
        "id": "vLQwqJwVgFu9"
      },
      "outputs": [],
      "source": [
        "(X_train, y_train), (X_test, y_test) = fashion_mnist.load_data()"
      ]
    },
    {
      "cell_type": "code",
      "execution_count": null,
      "metadata": {
        "id": "CdqZH-92gPQn"
      },
      "outputs": [],
      "source": [
        "X_train = X_train / 255.0\n",
        "X_test = X_test / 255.0\n",
        "\n",
        "y_train = to_categorical(y_train, num_classes=10)\n",
        "y_test = to_categorical(y_test, num_classes=10)"
      ]
    },
    {
      "cell_type": "code",
      "execution_count": null,
      "metadata": {
        "colab": {
          "base_uri": "https://localhost:8080/"
        },
        "id": "ulMTaABJQlSt",
        "outputId": "01212c66-ba33-4f0a-def4-1ea3ca758afb"
      },
      "outputs": [
        {
          "name": "stderr",
          "output_type": "stream",
          "text": [
            "/usr/local/lib/python3.10/dist-packages/keras/src/layers/convolutional/base_conv.py:107: UserWarning: Do not pass an `input_shape`/`input_dim` argument to a layer. When using Sequential models, prefer using an `Input(shape)` object as the first layer in the model instead.\n",
            "  super().__init__(activity_regularizer=activity_regularizer, **kwargs)\n"
          ]
        }
      ],
      "source": [
        "dnn = Sequential([\n",
        "    Flatten(input_shape = X_train.shape[1:]),\n",
        "    Dense(128, activation = \"relu\"),\n",
        "    Dense(64, activation = \"relu\"),\n",
        "    Dense(32, activation = \"relu\"),\n",
        "    Dense(10, activation = \"softmax\"),\n",
        "])\n",
        "\n",
        "dnn.compile(\n",
        "    optimizer = Adam(5e-4),\n",
        "    loss = \"categorical_crossentropy\",\n",
        "    metrics = [\"accuracy\"],\n",
        ")\n"
      ]
    },
    {
      "cell_type": "code",
      "source": [
        "cnn = Sequential([\n",
        "    Conv2D(\n",
        "      input_shape = X_train.shape[1:],\n",
        "      filters = 32,\n",
        "      kernel_size = (3, 3),\n",
        "      activation = \"relu\",\n",
        "    ),\n",
        "    MaxPolling2D(pool_size = (2, 2)),\n",
        "    Flatten(),\n",
        "    Dense(10, activation = \"softmax\"),\n",
        "])\n",
        "\n",
        "cnn.compile(\n",
        "    optimizer = Adam(5e-4),\n",
        "    loss = \"categorical_crossentropy\",\n",
        "    metrics = [\"accuracy\"],\n",
        ")"
      ],
      "metadata": {
        "id": "i5h6ouO4UzFC"
      },
      "execution_count": null,
      "outputs": []
    },
    {
      "cell_type": "code",
      "execution_count": null,
      "metadata": {
        "colab": {
          "background_save": true,
          "base_uri": "https://localhost:8080/"
        },
        "id": "2BGX_ONbR8VB",
        "outputId": "e9085c5a-4102-4835-c619-a76d0ef60e19"
      },
      "outputs": [
        {
          "name": "stdout",
          "output_type": "stream",
          "text": [
            "Epoch 1/15\n",
            "\u001b[1m1407/1407\u001b[0m \u001b[32m━━━━━━━━━━━━━━━━━━━━\u001b[0m\u001b[37m\u001b[0m \u001b[1m32s\u001b[0m 22ms/step - accuracy: 0.3682 - loss: 1.7799 - val_accuracy: 0.5342 - val_loss: 1.3672\n",
            "Epoch 2/15\n",
            "\u001b[1m1407/1407\u001b[0m \u001b[32m━━━━━━━━━━━━━━━━━━━━\u001b[0m\u001b[37m\u001b[0m \u001b[1m40s\u001b[0m 22ms/step - accuracy: 0.5365 - loss: 1.3281 - val_accuracy: 0.5570 - val_loss: 1.2736\n",
            "Epoch 3/15\n",
            "\u001b[1m1407/1407\u001b[0m \u001b[32m━━━━━━━━━━━━━━━━━━━━\u001b[0m\u001b[37m\u001b[0m \u001b[1m31s\u001b[0m 22ms/step - accuracy: 0.5742 - loss: 1.2228 - val_accuracy: 0.5786 - val_loss: 1.2199\n",
            "Epoch 4/15\n",
            "\u001b[1m1407/1407\u001b[0m \u001b[32m━━━━━━━━━━━━━━━━━━━━\u001b[0m\u001b[37m\u001b[0m \u001b[1m41s\u001b[0m 21ms/step - accuracy: 0.5975 - loss: 1.1609 - val_accuracy: 0.5900 - val_loss: 1.1781\n",
            "Epoch 5/15\n",
            "\u001b[1m1407/1407\u001b[0m \u001b[32m━━━━━━━━━━━━━━━━━━━━\u001b[0m\u001b[37m\u001b[0m \u001b[1m31s\u001b[0m 22ms/step - accuracy: 0.6125 - loss: 1.1255 - val_accuracy: 0.6058 - val_loss: 1.1418\n",
            "Epoch 6/15\n",
            "\u001b[1m1407/1407\u001b[0m \u001b[32m━━━━━━━━━━━━━━━━━━━━\u001b[0m\u001b[37m\u001b[0m \u001b[1m32s\u001b[0m 23ms/step - accuracy: 0.6345 - loss: 1.0677 - val_accuracy: 0.6150 - val_loss: 1.1221\n",
            "Epoch 7/15\n",
            "\u001b[1m1407/1407\u001b[0m \u001b[32m━━━━━━━━━━━━━━━━━━━━\u001b[0m\u001b[37m\u001b[0m \u001b[1m30s\u001b[0m 22ms/step - accuracy: 0.6477 - loss: 1.0253 - val_accuracy: 0.6184 - val_loss: 1.0969\n",
            "Epoch 8/15\n",
            "\u001b[1m1407/1407\u001b[0m \u001b[32m━━━━━━━━━━━━━━━━━━━━\u001b[0m\u001b[37m\u001b[0m \u001b[1m30s\u001b[0m 21ms/step - accuracy: 0.6606 - loss: 0.9884 - val_accuracy: 0.6182 - val_loss: 1.1130\n",
            "Epoch 9/15\n",
            "\u001b[1m1407/1407\u001b[0m \u001b[32m━━━━━━━━━━━━━━━━━━━━\u001b[0m\u001b[37m\u001b[0m \u001b[1m41s\u001b[0m 22ms/step - accuracy: 0.6706 - loss: 0.9647 - val_accuracy: 0.6294 - val_loss: 1.0741\n",
            "Epoch 10/15\n",
            "\u001b[1m1407/1407\u001b[0m \u001b[32m━━━━━━━━━━━━━━━━━━━━\u001b[0m\u001b[37m\u001b[0m \u001b[1m41s\u001b[0m 22ms/step - accuracy: 0.6802 - loss: 0.9380 - val_accuracy: 0.6414 - val_loss: 1.0526\n",
            "Epoch 11/15\n",
            "\u001b[1m1407/1407\u001b[0m \u001b[32m━━━━━━━━━━━━━━━━━━━━\u001b[0m\u001b[37m\u001b[0m \u001b[1m40s\u001b[0m 21ms/step - accuracy: 0.6890 - loss: 0.9047 - val_accuracy: 0.6442 - val_loss: 1.0405\n",
            "Epoch 12/15\n",
            "\u001b[1m1407/1407\u001b[0m \u001b[32m━━━━━━━━━━━━━━━━━━━━\u001b[0m\u001b[37m\u001b[0m \u001b[1m41s\u001b[0m 21ms/step - accuracy: 0.6950 - loss: 0.8883 - val_accuracy: 0.6550 - val_loss: 1.0269\n",
            "Epoch 13/15\n",
            "\u001b[1m1407/1407\u001b[0m \u001b[32m━━━━━━━━━━━━━━━━━━━━\u001b[0m\u001b[37m\u001b[0m \u001b[1m41s\u001b[0m 22ms/step - accuracy: 0.7029 - loss: 0.8723 - val_accuracy: 0.6460 - val_loss: 1.0421\n",
            "Epoch 14/15\n",
            "\u001b[1m1407/1407\u001b[0m \u001b[32m━━━━━━━━━━━━━━━━━━━━\u001b[0m\u001b[37m\u001b[0m \u001b[1m40s\u001b[0m 21ms/step - accuracy: 0.7122 - loss: 0.8535 - val_accuracy: 0.6472 - val_loss: 1.0427\n",
            "Epoch 15/15\n",
            "\u001b[1m1407/1407\u001b[0m \u001b[32m━━━━━━━━━━━━━━━━━━━━\u001b[0m\u001b[37m\u001b[0m \u001b[1m41s\u001b[0m 21ms/step - accuracy: 0.7169 - loss: 0.8361 - val_accuracy: 0.6424 - val_loss: 1.0407\n"
          ]
        }
      ],
      "source": [
        "dnn_history = dnn.fit(\n",
        "    X_train, y_train,\n",
        "    epochs = 15,\n",
        "    batch_size = 32,\n",
        "    validation_split = 0.1,\n",
        ")\n",
        "\n",
        "cnn_history = cnn.fit(\n",
        "    X_train y_train,\n",
        "    epochs = 10,\n",
        "    batch_size = 32,\n",
        "    validation_split = 0.1,\n",
        ")"
      ]
    },
    {
      "cell_type": "code",
      "execution_count": null,
      "metadata": {
        "id": "2zwINJlTSdAC"
      },
      "outputs": [],
      "source": [
        "loss, accuracy = model.evaluate(X_test, y_test)\n",
        "print(f\"Loss: {loss}, Accuracy: {accuracy}\")"
      ]
    },
    {
      "cell_type": "code",
      "execution_count": null,
      "metadata": {
        "id": "QhFzMyITUi46"
      },
      "outputs": [],
      "source": [
        "loss = history.history[\"loss\"]\n",
        "val_loss = history.history[\"val_loss\"]\n",
        "accuracy = history.history[\"accuracy\"]\n",
        "val_accuracy = history.history[\"val_accuracy\"]\n",
        "epochs = np.arange(0, 150)"
      ]
    },
    {
      "cell_type": "code",
      "execution_count": null,
      "metadata": {
        "id": "uBfufSdBU8AK"
      },
      "outputs": [],
      "source": [
        "fig, ax = plt.subplots(1, 2, figsize=(10,5))\n",
        "ax[0].plot(epochs, loss)\n",
        "ax[0].plot(epochs, val_loss)\n",
        "ax[1].plot(epochs, accuracy)\n",
        "ax[1].plot(epochs, val_accuracy)\n",
        "ax[0].set_title(\"Loss\")\n",
        "ax[1].set_title(\"Accuracy\")\n",
        "ax[0].set_xlabel(\"Epochs\")\n",
        "ax[1].set_xlabel(\"Epochs\")"
      ]
    },
    {
      "cell_type": "code",
      "execution_count": null,
      "metadata": {
        "id": "NDwWjgoDYCve"
      },
      "outputs": [],
      "source": [
        "accs = []\n",
        "scaler = StandardScaler()\n",
        "\n",
        "for train_index, test_index in KFold(16).split(X_train):\n",
        "  X_train_cv = X_train[train_index,:]\n",
        "  X_test_cv = X_train[test_index,:]\n",
        "  y_train_cv = y_train[train_index,:]\n",
        "  y_test_cv = y_train[test_index,:]\n",
        "\n",
        "  X_train_cv = scaler.fit_transform(X_train_cv)\n",
        "  X_test_cv = scaler.transform(X_test_cv)\n",
        "\n",
        "  model.fit(\n",
        "      X_train, y_train,\n",
        "      batch_size = 32,\n",
        "      epochs = 15,\n",
        "      validation_data = (X_test, y_test),\n",
        "      verbose = 2\n",
        "  )"
      ]
    }
  ],
  "metadata": {
    "colab": {
      "provenance": []
    },
    "kernelspec": {
      "display_name": "Python 3",
      "name": "python3"
    },
    "language_info": {
      "name": "python"
    }
  },
  "nbformat": 4,
  "nbformat_minor": 0
}