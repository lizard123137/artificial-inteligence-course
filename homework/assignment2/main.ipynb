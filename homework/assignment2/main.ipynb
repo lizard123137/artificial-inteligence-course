{
 "cells": [
  {
   "cell_type": "code",
   "execution_count": 24,
   "metadata": {
    "id": "9JIZFL4CM6Ay"
   },
   "outputs": [],
   "source": [
    "import numpy as np\n",
    "import matplotlib.pyplot as plt\n",
    "from sklearn.preprocessing import StandardScaler\n",
    "from keras.datasets import fashion_mnist\n",
    "from keras.models import Sequential\n",
    "from keras.layers import Dense, Conv2D, Flatten, MaxPooling2D, Dropout\n",
    "from keras.utils import to_categorical\n",
    "from keras.optimizers import Adam"
   ]
  },
  {
   "cell_type": "code",
   "execution_count": 25,
   "metadata": {
    "id": "vLQwqJwVgFu9"
   },
   "outputs": [],
   "source": [
    "(X_train, y_train), (X_test, y_test) = fashion_mnist.load_data()"
   ]
  },
  {
   "cell_type": "code",
   "execution_count": 26,
   "metadata": {
    "id": "CdqZH-92gPQn"
   },
   "outputs": [],
   "source": [
    "X_train = X_train / 255.0\n",
    "X_test = X_test / 255.0\n",
    "\n",
    "X_train = X_train.reshape(-1, 28, 28, 1)\n",
    "X_test = X_test.reshape(-1, 28, 28, 1)\n",
    "\n",
    "y_train = to_categorical(y_train, num_classes=10)\n",
    "y_test = to_categorical(y_test, num_classes=10)"
   ]
  },
  {
   "cell_type": "code",
   "execution_count": 27,
   "metadata": {
    "colab": {
     "base_uri": "https://localhost:8080/"
    },
    "id": "ulMTaABJQlSt",
    "outputId": "4b83a4b8-5007-4748-b1ad-b0e2c2832541"
   },
   "outputs": [
    {
     "name": "stderr",
     "output_type": "stream",
     "text": [
      "/usr/local/lib/python3.10/dist-packages/keras/src/layers/reshaping/flatten.py:37: UserWarning: Do not pass an `input_shape`/`input_dim` argument to a layer. When using Sequential models, prefer using an `Input(shape)` object as the first layer in the model instead.\n",
      "  super().__init__(**kwargs)\n"
     ]
    }
   ],
   "source": [
    "dnn = Sequential([\n",
    "    Flatten(input_shape = X_train.shape[1:]),\n",
    "    Dense(128, activation = \"relu\"),\n",
    "    Dense(64, activation = \"relu\"),\n",
    "    Dense(32, activation = \"relu\"),\n",
    "    Dense(10, activation = \"softmax\"),\n",
    "])\n",
    "\n",
    "dnn.compile(\n",
    "    optimizer = Adam(5e-4),\n",
    "    loss = \"categorical_crossentropy\",\n",
    "    metrics = [\"accuracy\"],\n",
    ")\n"
   ]
  },
  {
   "cell_type": "code",
   "execution_count": 28,
   "metadata": {
    "colab": {
     "base_uri": "https://localhost:8080/"
    },
    "id": "i5h6ouO4UzFC",
    "outputId": "42279953-2842-4de3-8c91-30b4ce5fc4f2"
   },
   "outputs": [
    {
     "name": "stderr",
     "output_type": "stream",
     "text": [
      "/usr/local/lib/python3.10/dist-packages/keras/src/layers/convolutional/base_conv.py:107: UserWarning: Do not pass an `input_shape`/`input_dim` argument to a layer. When using Sequential models, prefer using an `Input(shape)` object as the first layer in the model instead.\n",
      "  super().__init__(activity_regularizer=activity_regularizer, **kwargs)\n"
     ]
    }
   ],
   "source": [
    "cnn = Sequential([\n",
    "    Conv2D(\n",
    "      input_shape = X_train.shape[1:],\n",
    "      filters = 32,\n",
    "      kernel_size = (3, 3),\n",
    "      activation = \"relu\",\n",
    "    ),\n",
    "    MaxPooling2D(pool_size = (2, 2)),\n",
    "    Flatten(),\n",
    "    Dense(10, activation = \"softmax\"),\n",
    "])\n",
    "\n",
    "cnn.compile(\n",
    "    optimizer = Adam(5e-4),\n",
    "    loss = \"categorical_crossentropy\",\n",
    "    metrics = [\"accuracy\"],\n",
    ")"
   ]
  },
  {
   "cell_type": "code",
   "execution_count": 29,
   "metadata": {
    "colab": {
     "base_uri": "https://localhost:8080/"
    },
    "id": "2BGX_ONbR8VB",
    "outputId": "50f03c9e-7332-46ea-e260-5cccf0b000a6"
   },
   "outputs": [
    {
     "name": "stdout",
     "output_type": "stream",
     "text": [
      "Epoch 1/15\n",
      "\u001b[1m1688/1688\u001b[0m \u001b[32m━━━━━━━━━━━━━━━━━━━━\u001b[0m\u001b[37m\u001b[0m \u001b[1m7s\u001b[0m 4ms/step - accuracy: 0.7474 - loss: 0.7561 - val_accuracy: 0.8335 - val_loss: 0.4505\n",
      "Epoch 2/15\n",
      "\u001b[1m1688/1688\u001b[0m \u001b[32m━━━━━━━━━━━━━━━━━━━━\u001b[0m\u001b[37m\u001b[0m \u001b[1m8s\u001b[0m 5ms/step - accuracy: 0.8554 - loss: 0.4019 - val_accuracy: 0.8633 - val_loss: 0.3765\n",
      "Epoch 3/15\n",
      "\u001b[1m1688/1688\u001b[0m \u001b[32m━━━━━━━━━━━━━━━━━━━━\u001b[0m\u001b[37m\u001b[0m \u001b[1m6s\u001b[0m 4ms/step - accuracy: 0.8709 - loss: 0.3503 - val_accuracy: 0.8733 - val_loss: 0.3445\n",
      "Epoch 4/15\n",
      "\u001b[1m1688/1688\u001b[0m \u001b[32m━━━━━━━━━━━━━━━━━━━━\u001b[0m\u001b[37m\u001b[0m \u001b[1m8s\u001b[0m 5ms/step - accuracy: 0.8815 - loss: 0.3230 - val_accuracy: 0.8787 - val_loss: 0.3391\n",
      "Epoch 5/15\n",
      "\u001b[1m1688/1688\u001b[0m \u001b[32m━━━━━━━━━━━━━━━━━━━━\u001b[0m\u001b[37m\u001b[0m \u001b[1m6s\u001b[0m 4ms/step - accuracy: 0.8859 - loss: 0.3070 - val_accuracy: 0.8818 - val_loss: 0.3336\n",
      "Epoch 6/15\n",
      "\u001b[1m1688/1688\u001b[0m \u001b[32m━━━━━━━━━━━━━━━━━━━━\u001b[0m\u001b[37m\u001b[0m \u001b[1m8s\u001b[0m 5ms/step - accuracy: 0.8942 - loss: 0.2906 - val_accuracy: 0.8813 - val_loss: 0.3214\n",
      "Epoch 7/15\n",
      "\u001b[1m1688/1688\u001b[0m \u001b[32m━━━━━━━━━━━━━━━━━━━━\u001b[0m\u001b[37m\u001b[0m \u001b[1m6s\u001b[0m 4ms/step - accuracy: 0.9008 - loss: 0.2687 - val_accuracy: 0.8847 - val_loss: 0.3230\n",
      "Epoch 8/15\n",
      "\u001b[1m1688/1688\u001b[0m \u001b[32m━━━━━━━━━━━━━━━━━━━━\u001b[0m\u001b[37m\u001b[0m \u001b[1m10s\u001b[0m 4ms/step - accuracy: 0.9028 - loss: 0.2621 - val_accuracy: 0.8878 - val_loss: 0.3152\n",
      "Epoch 9/15\n",
      "\u001b[1m1688/1688\u001b[0m \u001b[32m━━━━━━━━━━━━━━━━━━━━\u001b[0m\u001b[37m\u001b[0m \u001b[1m12s\u001b[0m 5ms/step - accuracy: 0.9066 - loss: 0.2473 - val_accuracy: 0.8820 - val_loss: 0.3242\n",
      "Epoch 10/15\n",
      "\u001b[1m1688/1688\u001b[0m \u001b[32m━━━━━━━━━━━━━━━━━━━━\u001b[0m\u001b[37m\u001b[0m \u001b[1m6s\u001b[0m 4ms/step - accuracy: 0.9091 - loss: 0.2416 - val_accuracy: 0.8853 - val_loss: 0.3153\n",
      "Epoch 11/15\n",
      "\u001b[1m1688/1688\u001b[0m \u001b[32m━━━━━━━━━━━━━━━━━━━━\u001b[0m\u001b[37m\u001b[0m \u001b[1m10s\u001b[0m 4ms/step - accuracy: 0.9151 - loss: 0.2269 - val_accuracy: 0.8885 - val_loss: 0.3225\n",
      "Epoch 12/15\n",
      "\u001b[1m1688/1688\u001b[0m \u001b[32m━━━━━━━━━━━━━━━━━━━━\u001b[0m\u001b[37m\u001b[0m \u001b[1m8s\u001b[0m 5ms/step - accuracy: 0.9150 - loss: 0.2255 - val_accuracy: 0.8818 - val_loss: 0.3401\n",
      "Epoch 13/15\n",
      "\u001b[1m1688/1688\u001b[0m \u001b[32m━━━━━━━━━━━━━━━━━━━━\u001b[0m\u001b[37m\u001b[0m \u001b[1m6s\u001b[0m 4ms/step - accuracy: 0.9186 - loss: 0.2194 - val_accuracy: 0.8827 - val_loss: 0.3561\n",
      "Epoch 14/15\n",
      "\u001b[1m1688/1688\u001b[0m \u001b[32m━━━━━━━━━━━━━━━━━━━━\u001b[0m\u001b[37m\u001b[0m \u001b[1m8s\u001b[0m 5ms/step - accuracy: 0.9193 - loss: 0.2128 - val_accuracy: 0.8915 - val_loss: 0.3158\n",
      "Epoch 15/15\n",
      "\u001b[1m1688/1688\u001b[0m \u001b[32m━━━━━━━━━━━━━━━━━━━━\u001b[0m\u001b[37m\u001b[0m \u001b[1m6s\u001b[0m 4ms/step - accuracy: 0.9237 - loss: 0.2029 - val_accuracy: 0.8892 - val_loss: 0.3279\n",
      "Epoch 1/15\n",
      "\u001b[1m1688/1688\u001b[0m \u001b[32m━━━━━━━━━━━━━━━━━━━━\u001b[0m\u001b[37m\u001b[0m \u001b[1m27s\u001b[0m 16ms/step - accuracy: 0.7568 - loss: 0.7060 - val_accuracy: 0.8578 - val_loss: 0.3929\n",
      "Epoch 2/15\n",
      "\u001b[1m1688/1688\u001b[0m \u001b[32m━━━━━━━━━━━━━━━━━━━━\u001b[0m\u001b[37m\u001b[0m \u001b[1m26s\u001b[0m 15ms/step - accuracy: 0.8724 - loss: 0.3718 - val_accuracy: 0.8840 - val_loss: 0.3339\n",
      "Epoch 3/15\n",
      "\u001b[1m1688/1688\u001b[0m \u001b[32m━━━━━━━━━━━━━━━━━━━━\u001b[0m\u001b[37m\u001b[0m \u001b[1m41s\u001b[0m 16ms/step - accuracy: 0.8873 - loss: 0.3207 - val_accuracy: 0.8803 - val_loss: 0.3272\n",
      "Epoch 4/15\n",
      "\u001b[1m1688/1688\u001b[0m \u001b[32m━━━━━━━━━━━━━━━━━━━━\u001b[0m\u001b[37m\u001b[0m \u001b[1m26s\u001b[0m 16ms/step - accuracy: 0.8962 - loss: 0.2950 - val_accuracy: 0.8922 - val_loss: 0.3037\n",
      "Epoch 5/15\n",
      "\u001b[1m1688/1688\u001b[0m \u001b[32m━━━━━━━━━━━━━━━━━━━━\u001b[0m\u001b[37m\u001b[0m \u001b[1m26s\u001b[0m 16ms/step - accuracy: 0.9034 - loss: 0.2758 - val_accuracy: 0.8960 - val_loss: 0.2888\n",
      "Epoch 6/15\n",
      "\u001b[1m1688/1688\u001b[0m \u001b[32m━━━━━━━━━━━━━━━━━━━━\u001b[0m\u001b[37m\u001b[0m \u001b[1m26s\u001b[0m 16ms/step - accuracy: 0.9069 - loss: 0.2633 - val_accuracy: 0.9012 - val_loss: 0.2793\n",
      "Epoch 7/15\n",
      "\u001b[1m1688/1688\u001b[0m \u001b[32m━━━━━━━━━━━━━━━━━━━━\u001b[0m\u001b[37m\u001b[0m \u001b[1m26s\u001b[0m 15ms/step - accuracy: 0.9119 - loss: 0.2529 - val_accuracy: 0.9045 - val_loss: 0.2711\n",
      "Epoch 8/15\n",
      "\u001b[1m1688/1688\u001b[0m \u001b[32m━━━━━━━━━━━━━━━━━━━━\u001b[0m\u001b[37m\u001b[0m \u001b[1m41s\u001b[0m 15ms/step - accuracy: 0.9162 - loss: 0.2382 - val_accuracy: 0.9058 - val_loss: 0.2691\n",
      "Epoch 9/15\n",
      "\u001b[1m1688/1688\u001b[0m \u001b[32m━━━━━━━━━━━━━━━━━━━━\u001b[0m\u001b[37m\u001b[0m \u001b[1m27s\u001b[0m 16ms/step - accuracy: 0.9211 - loss: 0.2249 - val_accuracy: 0.9073 - val_loss: 0.2678\n",
      "Epoch 10/15\n",
      "\u001b[1m1688/1688\u001b[0m \u001b[32m━━━━━━━━━━━━━━━━━━━━\u001b[0m\u001b[37m\u001b[0m \u001b[1m27s\u001b[0m 16ms/step - accuracy: 0.9210 - loss: 0.2264 - val_accuracy: 0.9065 - val_loss: 0.2671\n",
      "Epoch 11/15\n",
      "\u001b[1m1688/1688\u001b[0m \u001b[32m━━━━━━━━━━━━━━━━━━━━\u001b[0m\u001b[37m\u001b[0m \u001b[1m40s\u001b[0m 15ms/step - accuracy: 0.9221 - loss: 0.2180 - val_accuracy: 0.9055 - val_loss: 0.2698\n",
      "Epoch 12/15\n",
      "\u001b[1m1688/1688\u001b[0m \u001b[32m━━━━━━━━━━━━━━━━━━━━\u001b[0m\u001b[37m\u001b[0m \u001b[1m26s\u001b[0m 15ms/step - accuracy: 0.9251 - loss: 0.2076 - val_accuracy: 0.9083 - val_loss: 0.2615\n",
      "Epoch 13/15\n",
      "\u001b[1m1688/1688\u001b[0m \u001b[32m━━━━━━━━━━━━━━━━━━━━\u001b[0m\u001b[37m\u001b[0m \u001b[1m41s\u001b[0m 15ms/step - accuracy: 0.9304 - loss: 0.1963 - val_accuracy: 0.9055 - val_loss: 0.2672\n",
      "Epoch 14/15\n",
      "\u001b[1m1688/1688\u001b[0m \u001b[32m━━━━━━━━━━━━━━━━━━━━\u001b[0m\u001b[37m\u001b[0m \u001b[1m41s\u001b[0m 15ms/step - accuracy: 0.9304 - loss: 0.1944 - val_accuracy: 0.9023 - val_loss: 0.2717\n",
      "Epoch 15/15\n",
      "\u001b[1m1688/1688\u001b[0m \u001b[32m━━━━━━━━━━━━━━━━━━━━\u001b[0m\u001b[37m\u001b[0m \u001b[1m41s\u001b[0m 15ms/step - accuracy: 0.9353 - loss: 0.1852 - val_accuracy: 0.9083 - val_loss: 0.2601\n"
     ]
    }
   ],
   "source": [
    "dnn_history = dnn.fit(\n",
    "    X_train, y_train,\n",
    "    epochs = 15,\n",
    "    batch_size = 32,\n",
    "    validation_split = 0.1,\n",
    ")\n",
    "\n",
    "cnn_history = cnn.fit(\n",
    "    X_train, y_train,\n",
    "    epochs = 15,\n",
    "    batch_size = 32,\n",
    "    validation_split = 0.1,\n",
    ")"
   ]
  },
  {
   "cell_type": "code",
   "execution_count": 30,
   "metadata": {
    "colab": {
     "base_uri": "https://localhost:8080/"
    },
    "id": "2zwINJlTSdAC",
    "outputId": "f686a0e2-f915-4de2-8c43-1fe9abbd7373"
   },
   "outputs": [
    {
     "name": "stdout",
     "output_type": "stream",
     "text": [
      "\u001b[1m313/313\u001b[0m \u001b[32m━━━━━━━━━━━━━━━━━━━━\u001b[0m\u001b[37m\u001b[0m \u001b[1m2s\u001b[0m 5ms/step - accuracy: 0.9038 - loss: 0.2708\n",
      "\u001b[1m313/313\u001b[0m \u001b[32m━━━━━━━━━━━━━━━━━━━━\u001b[0m\u001b[37m\u001b[0m \u001b[1m1s\u001b[0m 2ms/step - accuracy: 0.8806 - loss: 0.3544\n",
      "Loss:\n",
      "CNN: 0.2682797610759735, DNN: 0.34744635224342346\n",
      "Accuracy:\n",
      "CNN: 0.9025999903678894, DNN: 0.8809999823570251\n"
     ]
    }
   ],
   "source": [
    "cnn_loss, cnn_accuracy = cnn.evaluate(X_test, y_test)\n",
    "dnn_loss, dnn_accuracy = dnn.evaluate(X_test, y_test)\n",
    "\n",
    "print(\"Loss:\")\n",
    "print(f\"CNN: {cnn_loss}, DNN: {dnn_loss}\")\n",
    "\n",
    "print(\"Accuracy:\")\n",
    "print(f\"CNN: {cnn_accuracy}, DNN: {dnn_accuracy}\")"
   ]
  },
  {
   "cell_type": "code",
   "execution_count": 31,
   "metadata": {
    "id": "QhFzMyITUi46"
   },
   "outputs": [],
   "source": [
    "cnn_loss = cnn_history.history[\"loss\"]\n",
    "cnn_val_loss = cnn_history.history[\"val_loss\"]\n",
    "cnn_accuracy = cnn_history.history[\"accuracy\"]\n",
    "cnn_val_accuracy = cnn_history.history[\"val_accuracy\"]\n",
    "\n",
    "dnn_loss = dnn_history.history[\"loss\"]\n",
    "dnn_val_loss = dnn_history.history[\"val_loss\"]\n",
    "dnn_accuracy = dnn_history.history[\"accuracy\"]\n",
    "dnn_val_accuracy = dnn_history.history[\"val_accuracy\"]\n",
    "\n",
    "epochs = np.arange(0, 15)"
   ]
  },
  {
   "cell_type": "code",
   "execution_count": 32,
   "metadata": {
    "colab": {
     "base_uri": "https://localhost:8080/",
     "height": 504
    },
    "id": "uBfufSdBU8AK",
    "outputId": "cd9c99fd-2a8c-41bf-b501-cce25e8c418d"
   },
   "outputs": [
    {
     "data": {
      "text/plain": [
       "<matplotlib.legend.Legend at 0x7c8f94f72c80>"
      ]
     },
     "execution_count": 32,
     "metadata": {},
     "output_type": "execute_result"
    },
    {
     "data": {
      "image/png": "[encoded data removed]",
      "text/plain": [
       "<Figure size 1000x500 with 2 Axes>"
      ]
     },
     "metadata": {},
     "output_type": "display_data"
    }
   ],
   "source": [
    "fig, ax = plt.subplots(1, 2, figsize=(10,5))\n",
    "\n",
    "ax[0].plot(epochs, cnn_loss, label=\"loss\")\n",
    "ax[0].plot(epochs, cnn_val_loss, label=\"loss_val\")\n",
    "ax[0].plot(epochs, cnn_accuracy, label=\"accuracy\")\n",
    "ax[0].plot(epochs, cnn_val_accuracy, label=\"accuracy_val\")\n",
    "\n",
    "ax[1].plot(epochs, dnn_loss, label=\"loss\")\n",
    "ax[1].plot(epochs, dnn_val_loss, label=\"loss_val\")\n",
    "ax[1].plot(epochs, dnn_accuracy, label=\"accuracy\")\n",
    "ax[1].plot(epochs, dnn_val_accuracy, label=\"accuracy_val\")\n",
    "\n",
    "ax[0].set_title(\"CNN\")\n",
    "ax[1].set_title(\"DNN\")\n",
    "ax[0].set_xlabel(\"Epochs\")\n",
    "ax[1].set_xlabel(\"Epochs\")\n",
    "ax[0].legend()\n",
    "ax[1].legend()"
   ]
  }
 ],
 "metadata": {
  "colab": {
   "provenance": []
  },
  "kernelspec": {
   "display_name": "Python 3",
   "name": "python3"
  },
  "language_info": {
   "name": "python",
   "version": "3.12.7"
  }
 },
 "nbformat": 4,
 "nbformat_minor": 0
}
